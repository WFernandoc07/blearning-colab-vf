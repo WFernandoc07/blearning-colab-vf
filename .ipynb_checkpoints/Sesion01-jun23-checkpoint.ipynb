{
 "cells": [
  {
   "cell_type": "markdown",
   "id": "70a19ed4",
   "metadata": {},
   "source": [
    "# Matrices\n",
    "## Numpy\n",
    "* Creando una matriz unidimensional y otra bidimensional utilizando numpy"
   ]
  },
  {
   "cell_type": "code",
   "execution_count": 2,
   "id": "05d82b95",
   "metadata": {},
   "outputs": [
    {
     "name": "stdout",
     "output_type": "stream",
     "text": [
      "[1 2 3]\n",
      "(3,)\n"
     ]
    }
   ],
   "source": [
    "import numpy as np\n",
    "matriz = np.array([1,2,3])\n",
    "print(matriz)\n",
    "print(matriz.shape)#(3,), 3 elementos ordenados"
   ]
  },
  {
   "cell_type": "code",
   "execution_count": 4,
   "id": "557a0589",
   "metadata": {},
   "outputs": [
    {
     "name": "stdout",
     "output_type": "stream",
     "text": [
      "[[10 23 24]\n",
      " [32 53 -1]]\n",
      "(2, 3)\n"
     ]
    }
   ],
   "source": [
    "#matriz en dos dimensiones\n",
    "matriz2d = np.array([[10,23,24],[32,53,-1]])\n",
    "print(matriz2d)\n",
    "print(matriz2d.shape)#(2,3): 2 filas - 3 columnas"
   ]
  },
  {
   "cell_type": "code",
   "execution_count": 6,
   "id": "276ac52c",
   "metadata": {},
   "outputs": [
    {
     "name": "stdout",
     "output_type": "stream",
     "text": [
      "[2 3 5] [ 3  4 65]\n"
     ]
    }
   ],
   "source": [
    "import numpy as np\n",
    "a = np.array([2,3,5])\n",
    "b = np.array([3,4,65])\n",
    "print(a,b) #se imprime las dos matrices"
   ]
  },
  {
   "cell_type": "markdown",
   "id": "d857f71c",
   "metadata": {},
   "source": [
    "---\n",
    "* **Existen modos más eficaces para crear arrays de 1 dimensión**"
   ]
  },
  {
   "cell_type": "code",
   "execution_count": 22,
   "id": "199c8f95",
   "metadata": {},
   "outputs": [
    {
     "name": "stdout",
     "output_type": "stream",
     "text": [
      "[ 0.          0.52631579  1.05263158  1.57894737  2.10526316  2.63157895\n",
      "  3.15789474  3.68421053  4.21052632  4.73684211  5.26315789  5.78947368\n",
      "  6.31578947  6.84210526  7.36842105  7.89473684  8.42105263  8.94736842\n",
      "  9.47368421 10.        ]\n",
      "Lenght:  20\n",
      "(array([0.        , 0.33333333, 0.66666667, 1.        , 1.33333333,\n",
      "       1.66666667, 2.        , 2.33333333, 2.66666667, 3.        ,\n",
      "       3.33333333, 3.66666667, 4.        , 4.33333333, 4.66666667,\n",
      "       5.        , 5.33333333, 5.66666667, 6.        , 6.33333333,\n",
      "       6.66666667, 7.        , 7.33333333, 7.66666667, 8.        ,\n",
      "       8.33333333, 8.66666667, 9.        , 9.33333333, 9.66666667]), 0.3333333333333333)\n"
     ]
    }
   ],
   "source": [
    "array = np.linspace(0,10,20) #linspace: (inicio, final, cant-elemt)\n",
    "print(array)#linstpace(0,Y,X): nos devuelve X números desde 0 hasta Y.\n",
    "print(\"Lenght: \",len(array))\n",
    "\n",
    "array = np.linspace(0,10,30, endpoint=False, retstep=True)\n",
    "#El endpoint, hace escapar del último número.\n",
    "#Retstep=True, incluye al final de cuanto en cuanto está aumentando\n",
    "print(array)"
   ]
  },
  {
   "cell_type": "code",
   "execution_count": 30,
   "id": "6ffef748",
   "metadata": {},
   "outputs": [
    {
     "name": "stdout",
     "output_type": "stream",
     "text": [
      "[10 12 14 16 18]\n",
      "[10 11 12 13 14 15 16 17 18 19]\n",
      "[0 1 2 3 4 5 6 7 8 9]\n"
     ]
    }
   ],
   "source": [
    "arr = np.arange(10,20,2)# arange(inicio, final, amplitud)\n",
    "print(arr)\n",
    "arr = np.arange(10,20) #por defecto la aplitud es = 1\n",
    "print(arr)\n",
    "arr = np.arange(10)#por defecto se inicia en 0\n",
    "print(arr)"
   ]
  },
  {
   "cell_type": "markdown",
   "id": "8fcb206e",
   "metadata": {},
   "source": [
    "---\n",
    "* **Espacio que ocupan los arrays de numpy**"
   ]
  },
  {
   "cell_type": "code",
   "execution_count": 40,
   "id": "d816cf94",
   "metadata": {},
   "outputs": [
    {
     "name": "stdout",
     "output_type": "stream",
     "text": [
      "280000\n",
      "80000\n",
      "Se concluye que el espacio de un array es menor que de una lista\n"
     ]
    }
   ],
   "source": [
    "import sys\n",
    "lista = range(10000)\n",
    "print(sys.getsizeof(1)*len(lista))#Calcula el espacio que ocupa en bytes.\n",
    "lista_np = np.arange(10000)\n",
    "print(lista_np.itemsize*lista_np.size)#Espacio que ocupa un array en bytes\n",
    "print(\"Se concluye que el espacio de un array es menor que de una lista\")"
   ]
  },
  {
   "cell_type": "markdown",
   "id": "5989eed7",
   "metadata": {},
   "source": [
    "---\n",
    "* **Evaluemos la rapidez (listas vs arrays de numpy)**"
   ]
  },
  {
   "cell_type": "code",
   "execution_count": 44,
   "id": "6934aa43",
   "metadata": {},
   "outputs": [
    {
     "name": "stdout",
     "output_type": "stream",
     "text": [
      "[0, 2, 4, 6, 8, 10, 12, 14, 16, 18]\n",
      "Tiempo transcurrido 1:  178.76219749450684\n",
      "-----------------------------\n",
      "[ 0  2  4  6  8 10 12 14 16 18]\n",
      "Tiempo transcurrido 2:  21.481752395629883\n"
     ]
    }
   ],
   "source": [
    "import time\n",
    "SIZE = 2000000\n",
    "lista1 = range(SIZE)\n",
    "lista2 = range(SIZE)\n",
    "\n",
    "lista1_np = np.arange(SIZE)\n",
    "lista2_np = np.arange(SIZE)\n",
    "\n",
    "start = time.time()\n",
    "#zip, nos permite crear un emparejamiento entre elementos igualmente numerados\n",
    "result = [(x+y) for x,y in zip(lista1, lista2)]\n",
    "# X Y -> (X,Y) ==> 2 3 -> (2,3)\n",
    "print(result[:10])#imprime los últimos 10 resultados del zip\n",
    "print(\"Tiempo transcurrido 1: \",(time.time()-start)*1000) #milisegundos\n",
    "print(\"-----------------------------\")\n",
    "\n",
    "start = time.time()\n",
    "result = lista1_np + lista2_np\n",
    "print(result[:10])\n",
    "print(\"Tiempo transcurrido 2: \",(time.time()-start)*1000) #milisegundos\n"
   ]
  },
  {
   "cell_type": "markdown",
   "id": "5cdf0f13",
   "metadata": {},
   "source": [
    "---\n",
    "* **Y si queremos hacer matrices**"
   ]
  },
  {
   "cell_type": "code",
   "execution_count": 46,
   "id": "44639a60",
   "metadata": {
    "scrolled": true
   },
   "outputs": [
    {
     "name": "stdout",
     "output_type": "stream",
     "text": [
      "[[2 3]\n",
      " [3 2]]\n",
      "---------------\n",
      "[[ 3  2]\n",
      " [-1  0]]\n",
      "----------------\n",
      "[[ 2  3]\n",
      " [ 3  2]\n",
      " [ 3  2]\n",
      " [-1  0]]\n"
     ]
    }
   ],
   "source": [
    "#A nxm\n",
    "#B nxm\n",
    "\n",
    "a = np.array([[2,3],[3,2]])\n",
    "b = np.array([[3,2],[-1,0]])\n",
    "print(a)\n",
    "print(\"---------------\")\n",
    "print(b)\n",
    "print(\"----------------\")\n",
    "\n",
    "#Operación concatenar\n",
    "c = np.concatenate((a,b))\n",
    "print(c)#Se imprimen las matrices apiladas\n"
   ]
  },
  {
   "cell_type": "code",
   "execution_count": 56,
   "id": "f25b98cf",
   "metadata": {
    "scrolled": false
   },
   "outputs": [
    {
     "name": "stdout",
     "output_type": "stream",
     "text": [
      "[[ 2  3]\n",
      " [ 3  2]\n",
      " [ 3  2]\n",
      " [-1  0]]\n",
      "(4, 2)\n",
      "--------------\n",
      "[[ 2  3  3  2]\n",
      " [ 3  2 -1  0]]\n",
      "(2, 4)\n",
      "---------------\n",
      "[[ 2  3]\n",
      " [ 3  2]\n",
      " [ 3  2]\n",
      " [-1  0]]\n",
      "------------------\n",
      "[[[ 2  3]\n",
      "  [ 3  2]]\n",
      "\n",
      " [[ 3 -1]\n",
      "  [ 2  0]]]\n",
      "(2, 2, 2)\n"
     ]
    }
   ],
   "source": [
    "c = np.vstack((a,b))\n",
    "print(c)\n",
    "print(c.shape)#(filas,columnas)\n",
    "print(\"--------------\")\n",
    "\n",
    "c = np.hstack((a,b))\n",
    "print(c)\n",
    "print(c.shape)#(filas, columnas)\n",
    "print(\"---------------\")\n",
    "\n",
    "c = np.concatenate((a,b),axis=0)#axis=0 || axis=1\n",
    "print(c)\n",
    "print(\"------------------\")\n",
    "\n",
    "c = np.dstack((a,b))\n",
    "print(c)\n",
    "print(c.shape)"
   ]
  },
  {
   "cell_type": "markdown",
   "id": "9c0cdd05",
   "metadata": {},
   "source": [
    "### Operaciones con vectores\n",
    "Los vectores se representan mediante arrays de una dimensión.\n",
    "En esta parte se explorarará las operaciones básicas."
   ]
  },
  {
   "cell_type": "code",
   "execution_count": 4,
   "id": "3e4e36e4",
   "metadata": {},
   "outputs": [
    {
     "name": "stdout",
     "output_type": "stream",
     "text": [
      "suma\n",
      " [ 13  -1 -20  11]\n",
      "diferencia\n",
      " [ 7 -3 26 -9]\n",
      "producto\n",
      " [ 30  -2 -69  10]\n",
      "multiplicando por un número\n",
      " [  30   10 -230  100]\n",
      "producto escalar\n",
      " -31\n"
     ]
    }
   ],
   "source": [
    "import numpy as np\n",
    "vector1 = np.array([10,-2,3,1])\n",
    "vector2 = np.array([3,1,-23,10])\n",
    "\n",
    "#Operaciones de elemento a elemento\n",
    "\n",
    "print(\"suma\\n\",vector1 + vector2)\n",
    "print(\"diferencia\\n\",vector1 - vector2)\n",
    "print(\"producto\\n\",vector1 * vector2)\n",
    "\n",
    "#Multiplicando por un número\n",
    "print(\"multiplicando por un número\\n\",10*vector2)\n",
    "\n",
    "#producto escalar\n",
    "print(\"producto escalar\\n\",vector1 @ vector2)"
   ]
  },
  {
   "cell_type": "markdown",
   "id": "d5691257",
   "metadata": {},
   "source": [
    "---\n",
    "## Trabajando con matrices\n",
    "**¿Y si queremos hacer una matriz?**\n",
    "\n",
    "* **Matrices importantes vacias con np.empty y np.zeros**\n"
   ]
  },
  {
   "cell_type": "code",
   "execution_count": 25,
   "id": "fd69f233",
   "metadata": {},
   "outputs": [
    {
     "name": "stdout",
     "output_type": "stream",
     "text": [
      "[[0. 0. 0. ... 0. 0. 0.]\n",
      " [0. 0. 0. ... 0. 0. 0.]\n",
      " [0. 0. 0. ... 0. 0. 0.]\n",
      " ...\n",
      " [0. 0. 0. ... 0. 0. 0.]\n",
      " [0. 0. 0. ... 0. 0. 0.]\n",
      " [0. 0. 0. ... 0. 0. 0.]]\n",
      "CPU times: user 2.85 ms, sys: 2.7 ms, total: 5.55 ms\n",
      "Wall time: 11.7 ms\n"
     ]
    }
   ],
   "source": [
    "%%time \n",
    "#%%xyz, magic comand: ejecuta el codigo con nomalidad con información adicional.\n",
    "print(np.empty((15000,15000)))\n",
    "\n",
    "#Son números cercanos a ceros"
   ]
  },
  {
   "cell_type": "code",
   "execution_count": 26,
   "id": "f3d928a3",
   "metadata": {},
   "outputs": [
    {
     "name": "stdout",
     "output_type": "stream",
     "text": [
      "[[0. 0. 0. ... 0. 0. 0.]\n",
      " [0. 0. 0. ... 0. 0. 0.]\n",
      " [0. 0. 0. ... 0. 0. 0.]\n",
      " ...\n",
      " [0. 0. 0. ... 0. 0. 0.]\n",
      " [0. 0. 0. ... 0. 0. 0.]\n",
      " [0. 0. 0. ... 0. 0. 0.]]\n",
      "CPU times: user 2.16 ms, sys: 0 ns, total: 2.16 ms\n",
      "Wall time: 1.97 ms\n"
     ]
    }
   ],
   "source": [
    "%%time\n",
    "print(np.zeros((15000,15000)))\n",
    "#Son números iguales a cero"
   ]
  },
  {
   "cell_type": "code",
   "execution_count": 29,
   "id": "669340cb",
   "metadata": {},
   "outputs": [
    {
     "name": "stdout",
     "output_type": "stream",
     "text": [
      "[[1. 1.]\n",
      " [1. 1.]\n",
      " [1. 1.]]\n"
     ]
    }
   ],
   "source": [
    "unos = np.ones((3,2))\n",
    "print(unos)"
   ]
  },
  {
   "cell_type": "markdown",
   "id": "2a41852a",
   "metadata": {},
   "source": [
    "---\n",
    "**Matriz con todos los valores iguales**"
   ]
  },
  {
   "cell_type": "code",
   "execution_count": 30,
   "id": "e701feb1",
   "metadata": {},
   "outputs": [
    {
     "name": "stdout",
     "output_type": "stream",
     "text": [
      "[[8. 8.]\n",
      " [8. 8.]\n",
      " [8. 8.]]\n"
     ]
    }
   ],
   "source": [
    "full = 8*unos\n",
    "print(full)"
   ]
  },
  {
   "cell_type": "markdown",
   "id": "58f47a05",
   "metadata": {},
   "source": [
    "---\n",
    "**Creando una matriz identidad**"
   ]
  },
  {
   "cell_type": "code",
   "execution_count": 34,
   "id": "6fc27eea",
   "metadata": {},
   "outputs": [
    {
     "name": "stdout",
     "output_type": "stream",
     "text": [
      "[[1. 0. 0. 0. 0. 0. 0. 0. 0. 0.]\n",
      " [0. 1. 0. 0. 0. 0. 0. 0. 0. 0.]\n",
      " [0. 0. 1. 0. 0. 0. 0. 0. 0. 0.]\n",
      " [0. 0. 0. 1. 0. 0. 0. 0. 0. 0.]]\n",
      "-----------------\n",
      "[[1. 0. 0. 0.]\n",
      " [0. 1. 0. 0.]\n",
      " [0. 0. 1. 0.]\n",
      " [0. 0. 0. 1.]]\n"
     ]
    }
   ],
   "source": [
    "identidad1 = np.eye(4,10)\n",
    "print(identidad1)\n",
    "\n",
    "print(\"-----------------\")\n",
    "\n",
    "identidad2 = np.identity(4)\n",
    "print(identidad2)"
   ]
  },
  {
   "cell_type": "markdown",
   "id": "dabcaf8e",
   "metadata": {},
   "source": [
    "---\n",
    "* **Números aleatorios**\n"
   ]
  },
  {
   "cell_type": "code",
   "execution_count": 36,
   "id": "d4ad4972",
   "metadata": {},
   "outputs": [
    {
     "name": "stdout",
     "output_type": "stream",
     "text": [
      "[[0.44334101 0.63295272 0.98295881]\n",
      " [0.31927691 0.82003321 0.12440958]\n",
      " [0.60195719 0.6601965  0.62862879]]\n"
     ]
    }
   ],
   "source": [
    "aleatorios = np.random.random((3,3))\n",
    "print(aleatorios)"
   ]
  },
  {
   "cell_type": "markdown",
   "id": "c7967748",
   "metadata": {},
   "source": [
    "**Aleatorios: en computación no existen. Solo secuencias de repetición muy grandes**\n",
    "\n",
    "Si deseamos replicar los valores de una generación de números aleatorios se utiliza una ___semilla___"
   ]
  },
  {
   "cell_type": "code",
   "execution_count": 39,
   "id": "a5988197",
   "metadata": {},
   "outputs": [
    {
     "name": "stdout",
     "output_type": "stream",
     "text": [
      "[[0.54340494 0.27836939 0.42451759]\n",
      " [0.84477613 0.00471886 0.12156912]\n",
      " [0.67074908 0.82585276 0.13670659]]\n"
     ]
    }
   ],
   "source": [
    "np.random.seed(100)#seed(semilla)\n",
    "aleatorios = np.random.random((3,3))\n",
    "print(aleatorios)"
   ]
  },
  {
   "cell_type": "markdown",
   "id": "e18fc49a",
   "metadata": {},
   "source": [
    "---\n",
    "* **Encontrar la dimensión de la una matriz**\n"
   ]
  },
  {
   "cell_type": "code",
   "execution_count": 47,
   "id": "6db033d7",
   "metadata": {},
   "outputs": [
    {
     "name": "stdout",
     "output_type": "stream",
     "text": [
      "Dimensión de la matriz =  2\n",
      "[[1. 1. 1.]\n",
      " [1. 1. 1.]\n",
      " [1. 1. 1.]]\n",
      "---DIMENSIONES----\n",
      "3\n",
      "------SHAPE------\n",
      "(3, 3, 2)\n",
      "-----SIZE------\n",
      "18\n",
      "----DATA TYPE------\n",
      " float64\n",
      "------ITEM SIZE-----\n",
      " 8\n"
     ]
    }
   ],
   "source": [
    "a = np.array([[2,3,4],[5,6,3],[1,2,3]])\n",
    "print(\"Dimensión de la matriz = \",a.ndim)\n",
    "\n",
    "a = np.ones((3,3))\n",
    "print(a)\n",
    "\n",
    "a = np.ones((3,3,2))\n",
    "print(\"---DIMENSIONES----\")\n",
    "print(a.ndim)\n",
    "\n",
    "print(\"------SHAPE------\")\n",
    "print(a.shape)\n",
    "print(\"-----SIZE------\")\n",
    "print(a.size)\n",
    "print(\"----DATA TYPE------\\n\",a.dtype)\n",
    "print(\"------ITEM SIZE-----\\n\",a.itemsize)"
   ]
  },
  {
   "cell_type": "code",
   "execution_count": 55,
   "id": "306897e3",
   "metadata": {},
   "outputs": [
    {
     "name": "stdout",
     "output_type": "stream",
     "text": [
      "[[1 2 3 4 5 6]\n",
      " [5 6 7 8 2 1]\n",
      " [3 2 3 6 4 3]]\n",
      "\n",
      "---RESHAPE----\n",
      " [[1 2 3 4 5 6 5 6 7 8 2 1 3 2 3 6 4 3]]\n"
     ]
    }
   ],
   "source": [
    "b = np.array([[1,2,3,4,5,6],[5,6,7,8,2,1],[3,2,3,6,4,3]])\n",
    "print(b)\n",
    "\n",
    "b = b.reshape(1,18)\n",
    "print(\"\\n---RESHAPE----\\n\",b)"
   ]
  },
  {
   "cell_type": "markdown",
   "id": "35efbbc5",
   "metadata": {},
   "source": [
    "---\n",
    "**Extraer los valores de una matriz**"
   ]
  },
  {
   "cell_type": "code",
   "execution_count": 63,
   "id": "491d7a34",
   "metadata": {},
   "outputs": [
    {
     "name": "stdout",
     "output_type": "stream",
     "text": [
      "1\n"
     ]
    }
   ],
   "source": [
    "b = np.array([[1,2,3,4,5,6],[5,6,7,8,2,1],[3,2,3,6,4,3]])\n",
    "print(b[0,0]) #valor [0,0]"
   ]
  },
  {
   "cell_type": "code",
   "execution_count": 65,
   "id": "1b5b7f60",
   "metadata": {},
   "outputs": [
    {
     "name": "stdout",
     "output_type": "stream",
     "text": [
      "[[1 2 3 4 5 6]\n",
      " [5 6 7 8 2 1]\n",
      " [3 2 3 6 4 3]] \n",
      "----------\n",
      "[1 2 3 4 5 6]\n",
      "------\n",
      "[4 8 6]\n"
     ]
    }
   ],
   "source": [
    "b = np.array([[1,2,3,4,5,6],[5,6,7,8,2,1],[3,2,3,6,4,3]])\n",
    "print(b,\"\\n----------\")\n",
    "print(b[0])\n",
    "print(\"------\")\n",
    "print(b[:,3])#columna 3"
   ]
  },
  {
   "cell_type": "code",
   "execution_count": null,
   "id": "37a00711",
   "metadata": {},
   "outputs": [],
   "source": []
  }
 ],
 "metadata": {
  "kernelspec": {
   "display_name": "Python 3 (ipykernel)",
   "language": "python",
   "name": "python3"
  },
  "language_info": {
   "codemirror_mode": {
    "name": "ipython",
    "version": 3
   },
   "file_extension": ".py",
   "mimetype": "text/x-python",
   "name": "python",
   "nbconvert_exporter": "python",
   "pygments_lexer": "ipython3",
   "version": "3.10.9"
  }
 },
 "nbformat": 4,
 "nbformat_minor": 5
}
