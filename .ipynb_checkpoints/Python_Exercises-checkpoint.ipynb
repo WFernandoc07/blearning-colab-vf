{
 "cells": [
  {
   "cell_type": "markdown",
   "id": "5b5e11f0",
   "metadata": {},
   "source": [
    "# Python desde 0"
   ]
  },
  {
   "cell_type": "markdown",
   "id": "f9b5e4f4",
   "metadata": {},
   "source": [
    "Aprendiendo python\n"
   ]
  },
  {
   "cell_type": "code",
   "execution_count": 2,
   "id": "6c153857",
   "metadata": {},
   "outputs": [
    {
     "name": "stdout",
     "output_type": "stream",
     "text": [
      "Hello world!! bbys.\n"
     ]
    }
   ],
   "source": [
    "print(\"Hello world!! bbys.\")"
   ]
  },
  {
   "cell_type": "code",
   "execution_count": 3,
   "id": "0081e7f6",
   "metadata": {},
   "outputs": [
    {
     "data": {
      "text/plain": [
       "7"
      ]
     },
     "execution_count": 3,
     "metadata": {},
     "output_type": "execute_result"
    }
   ],
   "source": [
    "5+2"
   ]
  },
  {
   "cell_type": "markdown",
   "id": "40d4eb6e",
   "metadata": {},
   "source": [
    "## Utilizamos la siguiente nomenclatura para utilizar una base diferente a 10"
   ]
  },
  {
   "cell_type": "code",
   "execution_count": 18,
   "id": "3e477c9e",
   "metadata": {},
   "outputs": [
    {
     "name": "stdout",
     "output_type": "stream",
     "text": [
      "176\n",
      "8\n",
      "220\n"
     ]
    }
   ],
   "source": [
    "print(0x10 * 11)\n",
    "print(0o10)\n",
    "print(0b10 * 110)"
   ]
  },
  {
   "cell_type": "markdown",
   "id": "fd97682b",
   "metadata": {},
   "source": [
    "* **Números flotantes**"
   ]
  },
  {
   "cell_type": "code",
   "execution_count": 32,
   "id": "1a0d53e2",
   "metadata": {},
   "outputs": [
    {
     "name": "stdout",
     "output_type": "stream",
     "text": [
      "4.0\n",
      "0.3\n"
     ]
    }
   ],
   "source": [
    "print(4.)#4.0\n",
    "print(.3)#0.3"
   ]
  },
  {
   "cell_type": "code",
   "execution_count": 21,
   "id": "d2d831d3",
   "metadata": {},
   "outputs": [
    {
     "name": "stdout",
     "output_type": "stream",
     "text": [
      "(2+3j)\n",
      "<class 'complex'>\n"
     ]
    }
   ],
   "source": [
    "print(2+3j)\n",
    "print(type(2+3j))"
   ]
  },
  {
   "cell_type": "code",
   "execution_count": 24,
   "id": "5b599c14",
   "metadata": {},
   "outputs": [
    {
     "name": "stdout",
     "output_type": "stream",
     "text": [
      "\u0007\n",
      "\b\n"
     ]
    }
   ],
   "source": [
    "print(\"\\a\")\n",
    "print(\"\\b\")"
   ]
  },
  {
   "cell_type": "code",
   "execution_count": 34,
   "id": "a0b78760",
   "metadata": {},
   "outputs": [
    {
     "name": "stdout",
     "output_type": "stream",
     "text": [
      "25\n",
      "12\n",
      "[2, 4, 3]\n"
     ]
    }
   ],
   "source": [
    "#abs(x): devuelve el valos absoluto de x.\n",
    "print(abs(-25))\n",
    "\n",
    "#max(x): devuelve el valor máximo de x.\n",
    "a = [2,4,3]\n",
    "b = [1,5,4]\n",
    "print(max([5,6,9,12,4,2]))\n",
    "print(max(a,b))"
   ]
  },
  {
   "cell_type": "markdown",
   "id": "75444a4a",
   "metadata": {},
   "source": [
    "    **Function\tDescription**\n",
    "\n",
    "    ascii()\tReturns a string containing a printable representation of an object\n",
    "    bin()\tConverts an integer to a binary string\n",
    "    bool()\tConverts an argument to a Boolean value\n",
    "    chr()\tReturns string representation of character given by integer argument\n",
    "    complex()\tReturns a complex number constructed from arguments\n",
    "    float()\tReturns a floating-point object constructed from a number or string\n",
    "    hex()\tConverts an integer to a hexadecimal string\n",
    "    int()\tReturns an integer object constructed from a number or string\n",
    "    oct()\tConverts an integer to an octal string\n",
    "    ord()\tReturns integer representation of a character\n",
    "    repr()\tReturns a string containing a printable representation of an object\n",
    "    str()\tReturns a string version of an object\n",
    "    type()\tReturns the type of an object or creates a new type object"
   ]
  },
  {
   "cell_type": "code",
   "execution_count": 46,
   "id": "5d6bde2e",
   "metadata": {},
   "outputs": [
    {
     "name": "stdout",
     "output_type": "stream",
     "text": [
      "0b11001\n",
      "0b100000\n",
      "-----------------\n",
      "False\n",
      "False\n",
      "-----------------\n",
      "\u0005\n"
     ]
    }
   ],
   "source": [
    "#bin(x): Convierte a un binario el número x.\n",
    "print(bin(25))\n",
    "print(bin(32))\n",
    "\n",
    "# bool(x): convierte una sentencia X en boolean.\n",
    "print(\"-----------------\")\n",
    "print(bool(156<2))\n",
    "print(bool(\"hola\"!=\"hola\"))\n",
    "\n",
    "#char(x): devuelve un caracter, a a partir de un int X.\n",
    "print(\"-----------------\")\n",
    "print(chr(5))\n"
   ]
  },
  {
   "cell_type": "code",
   "execution_count": null,
   "id": "feb76545",
   "metadata": {},
   "outputs": [],
   "source": []
  }
 ],
 "metadata": {
  "kernelspec": {
   "display_name": "Python 3 (ipykernel)",
   "language": "python",
   "name": "python3"
  },
  "language_info": {
   "codemirror_mode": {
    "name": "ipython",
    "version": 3
   },
   "file_extension": ".py",
   "mimetype": "text/x-python",
   "name": "python",
   "nbconvert_exporter": "python",
   "pygments_lexer": "ipython3",
   "version": "3.10.9"
  }
 },
 "nbformat": 4,
 "nbformat_minor": 5
}
