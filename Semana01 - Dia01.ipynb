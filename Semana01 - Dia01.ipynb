{
 "cells": [
  {
   "cell_type": "markdown",
   "id": "70a19ed4",
   "metadata": {},
   "source": [
    "# Matrices\n",
    "## Numpy\n",
    "* Creando una matriz unidimensional y otra bidimensional utilizando numpy"
   ]
  },
  {
   "cell_type": "code",
   "execution_count": 2,
   "id": "05d82b95",
   "metadata": {},
   "outputs": [
    {
     "name": "stdout",
     "output_type": "stream",
     "text": [
      "[1 2 3]\n",
      "(3,)\n"
     ]
    }
   ],
   "source": [
    "import numpy as np\n",
    "matriz = np.array([1,2,3])\n",
    "print(matriz)\n",
    "print(matriz.shape)#(3,), 3 elementos ordenados"
   ]
  },
  {
   "cell_type": "code",
   "execution_count": 4,
   "id": "557a0589",
   "metadata": {},
   "outputs": [
    {
     "name": "stdout",
     "output_type": "stream",
     "text": [
      "[[10 23 24]\n",
      " [32 53 -1]]\n",
      "(2, 3)\n"
     ]
    }
   ],
   "source": [
    "#matriz en dos dimensiones\n",
    "matriz2d = np.array([[10,23,24],[32,53,-1]])\n",
    "print(matriz2d)\n",
    "print(matriz2d.shape)#(2,3): 2 filas - 3 columnas"
   ]
  },
  {
   "cell_type": "code",
   "execution_count": 6,
   "id": "276ac52c",
   "metadata": {},
   "outputs": [
    {
     "name": "stdout",
     "output_type": "stream",
     "text": [
      "[2 3 5] [ 3  4 65]\n"
     ]
    }
   ],
   "source": [
    "import numpy as np\n",
    "a = np.array([2,3,5])\n",
    "b = np.array([3,4,65])\n",
    "print(a,b) #se imprime las dos matrices"
   ]
  },
  {
   "cell_type": "markdown",
   "id": "d857f71c",
   "metadata": {},
   "source": [
    "---\n",
    "* **Existen modos más eficaces para crear arrays de 1 dimensión**"
   ]
  },
  {
   "cell_type": "code",
   "execution_count": 22,
   "id": "199c8f95",
   "metadata": {},
   "outputs": [
    {
     "name": "stdout",
     "output_type": "stream",
     "text": [
      "[ 0.          0.52631579  1.05263158  1.57894737  2.10526316  2.63157895\n",
      "  3.15789474  3.68421053  4.21052632  4.73684211  5.26315789  5.78947368\n",
      "  6.31578947  6.84210526  7.36842105  7.89473684  8.42105263  8.94736842\n",
      "  9.47368421 10.        ]\n",
      "Lenght:  20\n",
      "(array([0.        , 0.33333333, 0.66666667, 1.        , 1.33333333,\n",
      "       1.66666667, 2.        , 2.33333333, 2.66666667, 3.        ,\n",
      "       3.33333333, 3.66666667, 4.        , 4.33333333, 4.66666667,\n",
      "       5.        , 5.33333333, 5.66666667, 6.        , 6.33333333,\n",
      "       6.66666667, 7.        , 7.33333333, 7.66666667, 8.        ,\n",
      "       8.33333333, 8.66666667, 9.        , 9.33333333, 9.66666667]), 0.3333333333333333)\n"
     ]
    }
   ],
   "source": [
    "array = np.linspace(0,10,20) #linspace: (inicio, final, cant-elemt)\n",
    "print(array)#linstpace(0,Y,X): nos devuelve X números desde 0 hasta Y.\n",
    "print(\"Lenght: \",len(array))\n",
    "\n",
    "array = np.linspace(0,10,30, endpoint=False, retstep=True)\n",
    "#El endpoint, hace escapar del último número.\n",
    "#Retstep=True, incluye al final de cuanto en cuanto está aumentando\n",
    "print(array)"
   ]
  },
  {
   "cell_type": "code",
   "execution_count": 30,
   "id": "6ffef748",
   "metadata": {},
   "outputs": [
    {
     "name": "stdout",
     "output_type": "stream",
     "text": [
      "[10 12 14 16 18]\n",
      "[10 11 12 13 14 15 16 17 18 19]\n",
      "[0 1 2 3 4 5 6 7 8 9]\n"
     ]
    }
   ],
   "source": [
    "arr = np.arange(10,20,2)# arange(inicio, final, amplitud)\n",
    "print(arr)\n",
    "arr = np.arange(10,20) #por defecto la aplitud es = 1\n",
    "print(arr)\n",
    "arr = np.arange(10)#por defecto se inicia en 0\n",
    "print(arr)"
   ]
  },
  {
   "cell_type": "markdown",
   "id": "8fcb206e",
   "metadata": {},
   "source": [
    "---\n",
    "* **Espacio que ocupan los arrays de numpy**"
   ]
  },
  {
   "cell_type": "code",
   "execution_count": 40,
   "id": "d816cf94",
   "metadata": {},
   "outputs": [
    {
     "name": "stdout",
     "output_type": "stream",
     "text": [
      "280000\n",
      "80000\n",
      "Se concluye que el espacio de un array es menor que de una lista\n"
     ]
    }
   ],
   "source": [
    "import sys\n",
    "lista = range(10000)\n",
    "print(sys.getsizeof(1)*len(lista))#Calcula el espacio que ocupa en bytes.\n",
    "lista_np = np.arange(10000)\n",
    "print(lista_np.itemsize*lista_np.size)#Espacio que ocupa un array en bytes\n",
    "print(\"Se concluye que el espacio de un array es menor que de una lista\")"
   ]
  },
  {
   "cell_type": "markdown",
   "id": "5989eed7",
   "metadata": {},
   "source": [
    "---\n",
    "* **Evaluemos la rapidez (listas vs arrays de numpy)**"
   ]
  },
  {
   "cell_type": "code",
   "execution_count": 44,
   "id": "6934aa43",
   "metadata": {},
   "outputs": [
    {
     "name": "stdout",
     "output_type": "stream",
     "text": [
      "[0, 2, 4, 6, 8, 10, 12, 14, 16, 18]\n",
      "Tiempo transcurrido 1:  178.76219749450684\n",
      "-----------------------------\n",
      "[ 0  2  4  6  8 10 12 14 16 18]\n",
      "Tiempo transcurrido 2:  21.481752395629883\n"
     ]
    }
   ],
   "source": [
    "import time\n",
    "SIZE = 2000000\n",
    "lista1 = range(SIZE)\n",
    "lista2 = range(SIZE)\n",
    "\n",
    "lista1_np = np.arange(SIZE)\n",
    "lista2_np = np.arange(SIZE)\n",
    "\n",
    "start = time.time()\n",
    "#zip, nos permite crear un emparejamiento entre elementos igualmente numerados\n",
    "result = [(x+y) for x,y in zip(lista1, lista2)]\n",
    "# X Y -> (X,Y) ==> 2 3 -> (2,3)\n",
    "print(result[:10])#imprime los últimos 10 resultados del zip\n",
    "print(\"Tiempo transcurrido 1: \",(time.time()-start)*1000) #milisegundos\n",
    "print(\"-----------------------------\")\n",
    "\n",
    "start = time.time()\n",
    "result = lista1_np + lista2_np\n",
    "print(result[:10])\n",
    "print(\"Tiempo transcurrido 2: \",(time.time()-start)*1000) #milisegundos\n"
   ]
  },
  {
   "cell_type": "markdown",
   "id": "5cdf0f13",
   "metadata": {},
   "source": [
    "---\n",
    "* **Y si queremos hacer matrices**"
   ]
  },
  {
   "cell_type": "code",
   "execution_count": 46,
   "id": "44639a60",
   "metadata": {
    "scrolled": true
   },
   "outputs": [
    {
     "name": "stdout",
     "output_type": "stream",
     "text": [
      "[[2 3]\n",
      " [3 2]]\n",
      "---------------\n",
      "[[ 3  2]\n",
      " [-1  0]]\n",
      "----------------\n",
      "[[ 2  3]\n",
      " [ 3  2]\n",
      " [ 3  2]\n",
      " [-1  0]]\n"
     ]
    }
   ],
   "source": [
    "#A nxm\n",
    "#B nxm\n",
    "\n",
    "a = np.array([[2,3],[3,2]])\n",
    "b = np.array([[3,2],[-1,0]])\n",
    "print(a)\n",
    "print(\"---------------\")\n",
    "print(b)\n",
    "print(\"----------------\")\n",
    "\n",
    "#Operación concatenar\n",
    "c = np.concatenate((a,b))\n",
    "print(c)#Se imprimen las matrices apiladas\n"
   ]
  },
  {
   "cell_type": "code",
   "execution_count": 56,
   "id": "f25b98cf",
   "metadata": {
    "scrolled": false
   },
   "outputs": [
    {
     "name": "stdout",
     "output_type": "stream",
     "text": [
      "[[ 2  3]\n",
      " [ 3  2]\n",
      " [ 3  2]\n",
      " [-1  0]]\n",
      "(4, 2)\n",
      "--------------\n",
      "[[ 2  3  3  2]\n",
      " [ 3  2 -1  0]]\n",
      "(2, 4)\n",
      "---------------\n",
      "[[ 2  3]\n",
      " [ 3  2]\n",
      " [ 3  2]\n",
      " [-1  0]]\n",
      "------------------\n",
      "[[[ 2  3]\n",
      "  [ 3  2]]\n",
      "\n",
      " [[ 3 -1]\n",
      "  [ 2  0]]]\n",
      "(2, 2, 2)\n"
     ]
    }
   ],
   "source": [
    "c = np.vstack((a,b))\n",
    "print(c)\n",
    "print(c.shape)#(filas,columnas)\n",
    "print(\"--------------\")\n",
    "\n",
    "c = np.hstack((a,b))\n",
    "print(c)\n",
    "print(c.shape)#(filas, columnas)\n",
    "print(\"---------------\")\n",
    "\n",
    "c = np.concatenate((a,b),axis=0)#axis=0 || axis=1\n",
    "print(c)\n",
    "print(\"------------------\")\n",
    "\n",
    "c = np.dstack((a,b))\n",
    "print(c)\n",
    "print(c.shape)"
   ]
  },
  {
   "cell_type": "markdown",
   "id": "9c0cdd05",
   "metadata": {},
   "source": [
    "### Operaciones con vectores\n",
    "Los vectores se representan mediante arrays de una dimensión.\n",
    "En esta parte se explorarará las operaciones básicas."
   ]
  },
  {
   "cell_type": "code",
   "execution_count": 60,
   "id": "3e4e36e4",
   "metadata": {},
   "outputs": [
    {
     "name": "stdout",
     "output_type": "stream",
     "text": [
      "[ 13  -1 -20  11]\n",
      "[ 7 -3 26 -9]\n",
      "[ 30  -2 -69  10]\n",
      "[  30   10 -230  100]\n",
      "-31\n"
     ]
    }
   ],
   "source": [
    "vector1 = np.array([10,-2,3,1])\n",
    "vector2 = np.array([3,1,-23,10])\n",
    "\n",
    "#Operaciones de elemento a elemento\n",
    "print(vector1 + vector2)\n",
    "print(vector1 - vector2)\n",
    "print(vector1 * vector2)\n",
    "\n",
    "#Multiplicando por un número\n",
    "print(10*vector2)\n",
    "\n",
    "#producto escalar\n",
    "print(vector1 @ vector2)"
   ]
  },
  {
   "cell_type": "code",
   "execution_count": null,
   "id": "f4a17b98",
   "metadata": {},
   "outputs": [],
   "source": []
  }
 ],
 "metadata": {
  "kernelspec": {
   "display_name": "Python 3 (ipykernel)",
   "language": "python",
   "name": "python3"
  },
  "language_info": {
   "codemirror_mode": {
    "name": "ipython",
    "version": 3
   },
   "file_extension": ".py",
   "mimetype": "text/x-python",
   "name": "python",
   "nbconvert_exporter": "python",
   "pygments_lexer": "ipython3",
   "version": "3.10.9"
  }
 },
 "nbformat": 4,
 "nbformat_minor": 5
}
