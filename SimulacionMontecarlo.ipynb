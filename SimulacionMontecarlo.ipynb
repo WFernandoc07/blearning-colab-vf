{
 "cells": [
  {
   "cell_type": "markdown",
   "id": "a196d560",
   "metadata": {},
   "source": [
    "# SIMULACIÓN DE MONTECARLO\n",
    "\n",
    "## Ejercicios\n",
    "1. Estimación de Pi: Utiliza la simulación de Montecarlo para estimar el valor de Pi. Genera puntos aleatorios dentro de un cuadrado que encierra un círculo unitario y cuenta cuántos puntos caen dentro del círculo. La relación entre los puntos dentro del círculo y el total de puntos generados te dará una aproximación de Pi.\n",
    "\n",
    "\n"
   ]
  },
  {
   "cell_type": "code",
   "execution_count": 5,
   "id": "1d7d9bef",
   "metadata": {},
   "outputs": [],
   "source": []
  },
  {
   "cell_type": "code",
   "execution_count": null,
   "id": "0e08d3d4",
   "metadata": {},
   "outputs": [],
   "source": []
  }
 ],
 "metadata": {
  "kernelspec": {
   "display_name": "Python 3 (ipykernel)",
   "language": "python",
   "name": "python3"
  },
  "language_info": {
   "codemirror_mode": {
    "name": "ipython",
    "version": 3
   },
   "file_extension": ".py",
   "mimetype": "text/x-python",
   "name": "python",
   "nbconvert_exporter": "python",
   "pygments_lexer": "ipython3",
   "version": "3.10.9"
  }
 },
 "nbformat": 4,
 "nbformat_minor": 5
}
