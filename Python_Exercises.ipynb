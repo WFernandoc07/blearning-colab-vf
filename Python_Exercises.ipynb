{
 "cells": [
  {
   "cell_type": "markdown",
   "id": "ff79b4f3",
   "metadata": {},
   "source": [
    "# Python desde 0"
   ]
  },
  {
   "cell_type": "markdown",
   "id": "1c407ace",
   "metadata": {},
   "source": [
    "Aprendiendo python\n"
   ]
  },
  {
   "cell_type": "code",
   "execution_count": 2,
   "id": "6c153857",
   "metadata": {},
   "outputs": [
    {
     "name": "stdout",
     "output_type": "stream",
     "text": [
      "Hello world!! bbys.\n"
     ]
    }
   ],
   "source": [
    "print(\"Hello world!! bbys.\")"
   ]
  },
  {
   "cell_type": "code",
   "execution_count": 3,
   "id": "0081e7f6",
   "metadata": {},
   "outputs": [
    {
     "data": {
      "text/plain": [
       "7"
      ]
     },
     "execution_count": 3,
     "metadata": {},
     "output_type": "execute_result"
    }
   ],
   "source": [
    "5+2"
   ]
  },
  {
   "cell_type": "markdown",
   "id": "40d38576",
   "metadata": {},
   "source": [
    "## Utilizamos la siguiente nomenclatura para utilizar una base diferente a 10"
   ]
  },
  {
   "cell_type": "code",
   "execution_count": 18,
   "id": "096590a6",
   "metadata": {},
   "outputs": [
    {
     "name": "stdout",
     "output_type": "stream",
     "text": [
      "176\n",
      "8\n",
      "220\n"
     ]
    }
   ],
   "source": [
    "print(0x10 * 11)\n",
    "print(0o10)\n",
    "print(0b10 * 110)"
   ]
  },
  {
   "cell_type": "markdown",
   "id": "d32d3f5e",
   "metadata": {},
   "source": [
    "* **Números flotantes**"
   ]
  },
  {
   "cell_type": "code",
   "execution_count": 32,
   "id": "dbdace0c",
   "metadata": {},
   "outputs": [
    {
     "name": "stdout",
     "output_type": "stream",
     "text": [
      "4.0\n",
      "0.3\n"
     ]
    }
   ],
   "source": [
    "print(4.)#4.0\n",
    "print(.3)#0.3"
   ]
  },
  {
   "cell_type": "code",
   "execution_count": 21,
   "id": "1a9f5565",
   "metadata": {},
   "outputs": [
    {
     "name": "stdout",
     "output_type": "stream",
     "text": [
      "(2+3j)\n",
      "<class 'complex'>\n"
     ]
    }
   ],
   "source": [
    "print(2+3j)\n",
    "print(type(2+3j))"
   ]
  },
  {
   "cell_type": "code",
   "execution_count": 24,
   "id": "00a73a2d",
   "metadata": {},
   "outputs": [
    {
     "name": "stdout",
     "output_type": "stream",
     "text": [
      "\u0007\n",
      "\b\n"
     ]
    }
   ],
   "source": [
    "print(\"\\a\")\n",
    "print(\"\\b\")"
   ]
  },
  {
   "cell_type": "code",
   "execution_count": 34,
   "id": "819235fd",
   "metadata": {},
   "outputs": [
    {
     "name": "stdout",
     "output_type": "stream",
     "text": [
      "25\n",
      "12\n",
      "[2, 4, 3]\n"
     ]
    }
   ],
   "source": [
    "#abs(x): devuelve el valos absoluto de x.\n",
    "print(abs(-25))\n",
    "\n",
    "#max(x): devuelve el valor máximo de x.\n",
    "a = [2,4,3]\n",
    "b = [1,5,4]\n",
    "print(max([5,6,9,12,4,2]))\n",
    "print(max(a,b))"
   ]
  },
  {
   "cell_type": "markdown",
   "id": "3a823d84",
   "metadata": {},
   "source": [
    "    **Function\tDescription**\n",
    "\n",
    "    ascii()\tReturns a string containing a printable representation of an object\n",
    "    bin()\tConverts an integer to a binary string\n",
    "    bool()\tConverts an argument to a Boolean value\n",
    "    chr()\tReturns string representation of character given by integer argument\n",
    "    complex()\tReturns a complex number constructed from arguments\n",
    "    float()\tReturns a floating-point object constructed from a number or string\n",
    "    hex()\tConverts an integer to a hexadecimal string\n",
    "    int()\tReturns an integer object constructed from a number or string\n",
    "    oct()\tConverts an integer to an octal string"
   ]
  },
  {
   "cell_type": "code",
   "execution_count": 52,
   "id": "74d7b53a",
   "metadata": {},
   "outputs": [
    {
     "name": "stdout",
     "output_type": "stream",
     "text": [
      "0b11001\n",
      "0b100000\n",
      "-----------------\n",
      "False\n",
      "False\n",
      "-----------------\n",
      "\u0005\n",
      "------------------\n",
      "(5+3j)\n",
      "<class 'complex'>\n",
      "------------\n",
      "0x38\n",
      "<class 'str'>\n"
     ]
    }
   ],
   "source": [
    "#bin(x): Convierte a un binario el número x.\n",
    "print(bin(25))\n",
    "print(bin(32))\n",
    "\n",
    "# bool(x): convierte una sentencia X en boolean.\n",
    "print(\"-----------------\")\n",
    "print(bool(156<2))\n",
    "print(bool(\"hola\"!=\"hola\"))\n",
    "\n",
    "#char(x): devuelve un caracter, a a partir de un int X.\n",
    "print(\"-----------------\")\n",
    "print(chr(5))\n",
    "\n",
    "print(\"------------------\")\n",
    "#complex(x): devuelve un número complejo a partir de un string x.\n",
    "print(complex(\"5+3j\"))\n",
    "print(type(complex(\"5+3j\")))\n",
    "\n",
    "#hex(x): convierte un int x a un string exadecimal\n",
    "print(\"------------\")\n",
    "print(hex(56))\n",
    "print(type(hex(56)))"
   ]
  },
  {
   "cell_type": "markdown",
   "id": "f49682dc",
   "metadata": {},
   "source": [
    "---\n",
    "    ord()\tReturns integer representation of a character\n",
    "    repr()\tReturns a string containing a printable representation of an object\n",
    "    str()\tReturns a string version of an object\n",
    "    type()\tReturns the type of an object or creates a new type object"
   ]
  },
  {
   "cell_type": "code",
   "execution_count": 78,
   "id": "27c041e5",
   "metadata": {},
   "outputs": [
    {
     "name": "stdout",
     "output_type": "stream",
     "text": [
      "49\n",
      "Hola mundo! 2023\n",
      "2023\n",
      "<class 'str'>\n"
     ]
    }
   ],
   "source": [
    "print(ord(\"1\"))\n",
    "print(str(\"Hola mundo! 2023\"))\n",
    "print(repr(2023))\n",
    "print(type(repr(2023)))"
   ]
  },
  {
   "cell_type": "code",
   "execution_count": 79,
   "id": "d0e84364",
   "metadata": {},
   "outputs": [
    {
     "name": "stdout",
     "output_type": "stream",
     "text": [
      "139809866809712\n",
      "139809866810352\n"
     ]
    }
   ],
   "source": [
    "a = 5\n",
    "b = 5*a\n",
    "#id(a): imprime el id del objeto a.\n",
    "print(id(a))\n",
    "print(id(b))"
   ]
  },
  {
   "cell_type": "code",
   "execution_count": 81,
   "id": "573bfda8",
   "metadata": {},
   "outputs": [
    {
     "name": "stdout",
     "output_type": "stream",
     "text": [
      "7\n"
     ]
    }
   ],
   "source": [
    "print(5+2)"
   ]
  },
  {
   "cell_type": "code",
   "execution_count": 1,
   "id": "d4130056",
   "metadata": {},
   "outputs": [
    {
     "data": {
      "text/plain": [
       "12"
      ]
     },
     "execution_count": 1,
     "metadata": {},
     "output_type": "execute_result"
    }
   ],
   "source": [
    "x=5\n",
    "y=7\n",
    "x+y"
   ]
  },
  {
   "cell_type": "markdown",
   "id": "c6782407",
   "metadata": {},
   "source": [
    "# Ejercicios de Algoritmos\n",
    "\n",
    "1. Suma de Números:\n",
    "Escribe un algoritmo que sume todos los números enteros desde 1 hasta un número dado n.\n",
    "\n",
    "2. Factorial:\n",
    "Escribe un algoritmo que calcule el factorial de un número entero n, denotado como n!.\n",
    "\n",
    "3. Fibonacci:\n",
    "Crea un algoritmo para calcular el enésimo número de la secuencia de Fibonacci, donde F(0) = 0, F(1) = 1, y F(n) = F(n-1) + F(n-2) para n >= 2.\n",
    "\n",
    "4. Ordenamiento de Arreglos:\n",
    "Implementa algoritmos de ordenamiento, como el Ordenamiento de Burbuja o el Ordenamiento por Inserción, para ordenar una lista de números.\n",
    "\n",
    "5. Búsqueda Binaria:\n",
    "Escribe un algoritmo de búsqueda binaria para encontrar un elemento en una lista ordenada.\n",
    "\n",
    "6. Potencia de un Número:\n",
    "Implementa un algoritmo que calcule a elevado a la potencia b de manera eficiente.\n",
    "\n",
    "7. Contador de Palabras:\n",
    "Crea un algoritmo que cuente el número de palabras en una cadena de texto.\n",
    "\n",
    "8. Validación de Paréntesis:\n",
    "Diseña un algoritmo que valide si una cadena que contiene paréntesis, corchetes y llaves está balanceada, es decir, si se abren y cierran correctamente.\n",
    "\n",
    "9. Mayor Elemento en una Lista:\n",
    "Encuentra el elemento más grande en una lista de números sin ordenar.\n",
    "\n",
    "10. Suma de Dos Números:\n",
    "Dada una lista de números, encuentra dos números cuya suma sea igual a un valor objetivo.\n",
    "\n",
    "11. Máximo Común Divisor (MCD):\n",
    "Implementa un algoritmo para calcular el MCD de dos números enteros usando el algoritmo de Euclides.\n",
    "\n",
    "12. Palíndromo:\n",
    "Escribe un algoritmo que determine si una cadena es un palíndromo (se lee igual de izquierda a derecha y viceversa)."
   ]
  },
  {
   "cell_type": "code",
   "execution_count": 19,
   "id": "c83687b0",
   "metadata": {},
   "outputs": [
    {
     "name": "stdout",
     "output_type": "stream",
     "text": [
      "ingrese n: 3\n",
      "6\n"
     ]
    }
   ],
   "source": [
    "# 1. Suma de Números: Escribe un algoritmo que sume todos los números enteros desde 1 hasta un número dado n.\n",
    "n = input(\"ingrese n: \")\n",
    "\n",
    "sum_temp = 0\n",
    "for i in range(int(n)):\n",
    "    sum_temp += i+1\n",
    "print(sum_temp)\n"
   ]
  },
  {
   "cell_type": "code",
   "execution_count": 22,
   "id": "9bbb177b",
   "metadata": {},
   "outputs": [
    {
     "name": "stdout",
     "output_type": "stream",
     "text": [
      "Ingrese n: 5\n",
      "1\n",
      "2\n",
      "3\n",
      "4\n",
      "5\n",
      "120\n"
     ]
    }
   ],
   "source": [
    "# 2. Factorial: Escribe un algoritmo que calcule el factorial de un número entero n, denotado como n!.\n",
    "n = int(input('Ingrese n: '))\n",
    "prod_aux = 1\n",
    "for i in range(n):\n",
    "    print(i+1)\n",
    "    prod_aux*=i+1\n",
    "    \n",
    "print(prod_aux)\n",
    "    "
   ]
  },
  {
   "cell_type": "code",
   "execution_count": null,
   "id": "dd3a1a37",
   "metadata": {},
   "outputs": [],
   "source": [
    "# Fibonacci: Crea un algoritmo para calcular el enésimo número de la secuencia de Fibonacci,\n",
    "# donde F(0) = 0, F(1) = 1, y F(n) = F(n-1) + F(n-2) para n >= 2.\n"
   ]
  }
 ],
 "metadata": {
  "kernelspec": {
   "display_name": "Python 3 (ipykernel)",
   "language": "python",
   "name": "python3"
  },
  "language_info": {
   "codemirror_mode": {
    "name": "ipython",
    "version": 3
   },
   "file_extension": ".py",
   "mimetype": "text/x-python",
   "name": "python",
   "nbconvert_exporter": "python",
   "pygments_lexer": "ipython3",
   "version": "3.10.9"
  }
 },
 "nbformat": 4,
 "nbformat_minor": 5
}
