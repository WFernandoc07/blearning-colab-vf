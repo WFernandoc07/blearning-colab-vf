{
 "cells": [
  {
   "cell_type": "markdown",
   "id": "ff79b4f3",
   "metadata": {},
   "source": [
    "# Python desde 0"
   ]
  },
  {
   "cell_type": "markdown",
   "id": "1c407ace",
   "metadata": {},
   "source": [
    "Aprendiendo python\n"
   ]
  },
  {
   "cell_type": "code",
   "execution_count": 2,
   "id": "6c153857",
   "metadata": {},
   "outputs": [
    {
     "name": "stdout",
     "output_type": "stream",
     "text": [
      "Hello world!! bbys.\n"
     ]
    }
   ],
   "source": [
    "print(\"Hello world!! bbys.\")"
   ]
  },
  {
   "cell_type": "code",
   "execution_count": 3,
   "id": "0081e7f6",
   "metadata": {},
   "outputs": [
    {
     "data": {
      "text/plain": [
       "7"
      ]
     },
     "execution_count": 3,
     "metadata": {},
     "output_type": "execute_result"
    }
   ],
   "source": [
    "5+2"
   ]
  },
  {
   "cell_type": "markdown",
   "id": "40d38576",
   "metadata": {},
   "source": [
    "## Utilizamos la siguiente nomenclatura para utilizar una base diferente a 10"
   ]
  },
  {
   "cell_type": "code",
   "execution_count": 18,
   "id": "096590a6",
   "metadata": {},
   "outputs": [
    {
     "name": "stdout",
     "output_type": "stream",
     "text": [
      "176\n",
      "8\n",
      "220\n"
     ]
    }
   ],
   "source": [
    "print(0x10 * 11)\n",
    "print(0o10)\n",
    "print(0b10 * 110)"
   ]
  },
  {
   "cell_type": "markdown",
   "id": "d32d3f5e",
   "metadata": {},
   "source": [
    "* **Números flotantes**"
   ]
  },
  {
   "cell_type": "code",
   "execution_count": 32,
   "id": "dbdace0c",
   "metadata": {},
   "outputs": [
    {
     "name": "stdout",
     "output_type": "stream",
     "text": [
      "4.0\n",
      "0.3\n"
     ]
    }
   ],
   "source": [
    "print(4.)#4.0\n",
    "print(.3)#0.3"
   ]
  },
  {
   "cell_type": "code",
   "execution_count": 21,
   "id": "1a9f5565",
   "metadata": {},
   "outputs": [
    {
     "name": "stdout",
     "output_type": "stream",
     "text": [
      "(2+3j)\n",
      "<class 'complex'>\n"
     ]
    }
   ],
   "source": [
    "print(2+3j)\n",
    "print(type(2+3j))"
   ]
  },
  {
   "cell_type": "code",
   "execution_count": 24,
   "id": "00a73a2d",
   "metadata": {},
   "outputs": [
    {
     "name": "stdout",
     "output_type": "stream",
     "text": [
      "\u0007\n",
      "\b\n"
     ]
    }
   ],
   "source": [
    "print(\"\\a\")\n",
    "print(\"\\b\")"
   ]
  },
  {
   "cell_type": "code",
   "execution_count": 34,
   "id": "819235fd",
   "metadata": {},
   "outputs": [
    {
     "name": "stdout",
     "output_type": "stream",
     "text": [
      "25\n",
      "12\n",
      "[2, 4, 3]\n"
     ]
    }
   ],
   "source": [
    "#abs(x): devuelve el valos absoluto de x.\n",
    "print(abs(-25))\n",
    "\n",
    "#max(x): devuelve el valor máximo de x.\n",
    "a = [2,4,3]\n",
    "b = [1,5,4]\n",
    "print(max([5,6,9,12,4,2]))\n",
    "print(max(a,b))"
   ]
  },
  {
   "cell_type": "markdown",
   "id": "3a823d84",
   "metadata": {},
   "source": [
    "    **Function\tDescription**\n",
    "\n",
    "    ascii()\tReturns a string containing a printable representation of an object\n",
    "    bin()\tConverts an integer to a binary string\n",
    "    bool()\tConverts an argument to a Boolean value\n",
    "    chr()\tReturns string representation of character given by integer argument\n",
    "    complex()\tReturns a complex number constructed from arguments\n",
    "    float()\tReturns a floating-point object constructed from a number or string\n",
    "    hex()\tConverts an integer to a hexadecimal string\n",
    "    int()\tReturns an integer object constructed from a number or string\n",
    "    oct()\tConverts an integer to an octal string"
   ]
  },
  {
   "cell_type": "code",
   "execution_count": 52,
   "id": "74d7b53a",
   "metadata": {},
   "outputs": [
    {
     "name": "stdout",
     "output_type": "stream",
     "text": [
      "0b11001\n",
      "0b100000\n",
      "-----------------\n",
      "False\n",
      "False\n",
      "-----------------\n",
      "\u0005\n",
      "------------------\n",
      "(5+3j)\n",
      "<class 'complex'>\n",
      "------------\n",
      "0x38\n",
      "<class 'str'>\n"
     ]
    }
   ],
   "source": [
    "#bin(x): Convierte a un binario el número x.\n",
    "print(bin(25))\n",
    "print(bin(32))\n",
    "\n",
    "# bool(x): convierte una sentencia X en boolean.\n",
    "print(\"-----------------\")\n",
    "print(bool(156<2))\n",
    "print(bool(\"hola\"!=\"hola\"))\n",
    "\n",
    "#char(x): devuelve un caracter, a a partir de un int X.\n",
    "print(\"-----------------\")\n",
    "print(chr(5))\n",
    "\n",
    "print(\"------------------\")\n",
    "#complex(x): devuelve un número complejo a partir de un string x.\n",
    "print(complex(\"5+3j\"))\n",
    "print(type(complex(\"5+3j\")))\n",
    "\n",
    "#hex(x): convierte un int x a un string exadecimal\n",
    "print(\"------------\")\n",
    "print(hex(56))\n",
    "print(type(hex(56)))"
   ]
  },
  {
   "cell_type": "markdown",
   "id": "f49682dc",
   "metadata": {},
   "source": [
    "---\n",
    "    ord()\tReturns integer representation of a character\n",
    "    repr()\tReturns a string containing a printable representation of an object\n",
    "    str()\tReturns a string version of an object\n",
    "    type()\tReturns the type of an object or creates a new type object"
   ]
  },
  {
   "cell_type": "code",
   "execution_count": 78,
   "id": "27c041e5",
   "metadata": {},
   "outputs": [
    {
     "name": "stdout",
     "output_type": "stream",
     "text": [
      "49\n",
      "Hola mundo! 2023\n",
      "2023\n",
      "<class 'str'>\n"
     ]
    }
   ],
   "source": [
    "print(ord(\"1\"))\n",
    "print(str(\"Hola mundo! 2023\"))\n",
    "print(repr(2023))\n",
    "print(type(repr(2023)))"
   ]
  },
  {
   "cell_type": "code",
   "execution_count": 79,
   "id": "d0e84364",
   "metadata": {},
   "outputs": [
    {
     "name": "stdout",
     "output_type": "stream",
     "text": [
      "139809866809712\n",
      "139809866810352\n"
     ]
    }
   ],
   "source": [
    "a = 5\n",
    "b = 5*a\n",
    "#id(a): imprime el id del objeto a.\n",
    "print(id(a))\n",
    "print(id(b))"
   ]
  },
  {
   "cell_type": "code",
   "execution_count": 81,
   "id": "573bfda8",
   "metadata": {},
   "outputs": [
    {
     "name": "stdout",
     "output_type": "stream",
     "text": [
      "7\n"
     ]
    }
   ],
   "source": [
    "print(5+2)"
   ]
  },
  {
   "cell_type": "code",
   "execution_count": 1,
   "id": "d4130056",
   "metadata": {},
   "outputs": [
    {
     "data": {
      "text/plain": [
       "12"
      ]
     },
     "execution_count": 1,
     "metadata": {},
     "output_type": "execute_result"
    }
   ],
   "source": [
    "x=5\n",
    "y=7\n",
    "x+y"
   ]
  },
  {
   "cell_type": "code",
   "execution_count": null,
   "id": "bf2c2891",
   "metadata": {},
   "outputs": [],
   "source": []
  }
 ],
 "metadata": {
  "kernelspec": {
   "display_name": "Python 3 (ipykernel)",
   "language": "python",
   "name": "python3"
  },
  "language_info": {
   "codemirror_mode": {
    "name": "ipython",
    "version": 3
   },
   "file_extension": ".py",
   "mimetype": "text/x-python",
   "name": "python",
   "nbconvert_exporter": "python",
   "pygments_lexer": "ipython3",
   "version": "3.10.9"
  }
 },
 "nbformat": 4,
 "nbformat_minor": 5
}
